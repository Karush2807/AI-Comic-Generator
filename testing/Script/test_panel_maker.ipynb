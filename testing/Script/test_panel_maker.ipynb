{
 "cells": [
  {
   "cell_type": "code",
   "execution_count": 1,
   "id": "48a0fbdb",
   "metadata": {},
   "outputs": [],
   "source": [
    "import os\n",
    "from dotenv import load_dotenv"
   ]
  },
  {
   "cell_type": "code",
   "execution_count": 2,
   "id": "4f9f847c",
   "metadata": {},
   "outputs": [
    {
     "data": {
      "text/plain": [
       "True"
      ]
     },
     "execution_count": 2,
     "metadata": {},
     "output_type": "execute_result"
    }
   ],
   "source": [
    "load_dotenv()"
   ]
  },
  {
   "cell_type": "code",
   "execution_count": 4,
   "id": "e9eb1e33",
   "metadata": {},
   "outputs": [],
   "source": [
    "os.environ[\"LANGCHAIN_API_KEY\"] = os.getenv(\"LANGCHAIN_API_KEY\")\n",
    "os.environ[\"LANGCHAIN_PROJECT\"] = os.getenv(\"LANGCHAIN_PROJECT\")\n",
    "os.environ[\"LANGCHAIN_TRACING_V2\"] = \"true\"\n",
    "groq_api_key = os.getenv(\"GROQ_API_KEY\")"
   ]
  },
  {
   "cell_type": "code",
   "execution_count": 5,
   "id": "c38e4907",
   "metadata": {},
   "outputs": [],
   "source": [
    "from langchain_core.prompts import ChatPromptTemplate"
   ]
  },
  {
   "cell_type": "code",
   "execution_count": 6,
   "id": "aee0631d",
   "metadata": {},
   "outputs": [],
   "source": [
    "prompt = ChatPromptTemplate(\n",
    "    [\n",
    "        (\"system\",\n",
    "        \"You are a creative comic script generator. \"\n",
    "        \"Your job is to convert a story into a structured comic book script format. \"\n",
    "        \"Each comic panel should include the following:\\n\"\n",
    "        \"- Panel Number\\n\"\n",
    "        \"- Scene Description (setting, mood)\\n\"\n",
    "        \"- Characters Involved\\n\"\n",
    "        \"- Dialogues (Speaker: Line)\\n\"\n",
    "        \"Maintain continuity and ensure that the scenes transition logically.\"\n",
    "         ),\n",
    "        (\"user\",\n",
    "        \"Story:\\n{story}\\n\\n\"\n",
    "        \"Please generate exactly 6 comic panels based on this story. \"\n",
    "        \"Be imaginative, descriptive, and ensure the dialogues fit the character personalities and context.\" \n",
    "        )\n",
    "    ]\n",
    ")"
   ]
  },
  {
   "cell_type": "code",
   "execution_count": 7,
   "id": "27ccf702",
   "metadata": {},
   "outputs": [],
   "source": [
    "from langchain_groq import ChatGroq"
   ]
  },
  {
   "cell_type": "code",
   "execution_count": 8,
   "id": "5d2dd4b9",
   "metadata": {},
   "outputs": [],
   "source": [
    "llm = ChatGroq(model=\"Llama-3.3-70b-Versatile\", groq_api_key=groq_api_key)"
   ]
  },
  {
   "cell_type": "code",
   "execution_count": 9,
   "id": "9775dbab",
   "metadata": {},
   "outputs": [],
   "source": [
    "from langchain_core.output_parsers import StrOutputParser"
   ]
  },
  {
   "cell_type": "code",
   "execution_count": 10,
   "id": "fc8691bb",
   "metadata": {},
   "outputs": [],
   "source": [
    "output_parser = StrOutputParser()"
   ]
  },
  {
   "cell_type": "code",
   "execution_count": 11,
   "id": "c910d5cd",
   "metadata": {},
   "outputs": [],
   "source": [
    "chain = prompt|llm|output_parser"
   ]
  },
  {
   "cell_type": "code",
   "execution_count": 12,
   "id": "c2848e69",
   "metadata": {},
   "outputs": [
    {
     "data": {
      "text/plain": [
       "\"**Panel 1**\\n- Scene Description: A serene village surrounded by lush greenery, with an ancient oak tree standing tall in the center. The atmosphere is peaceful, with a few birds flying in the distance.\\n- Characters Involved: Mira, villagers in the background\\n- Dialogues: None\\n\\n**Panel 2**\\n- Scene Description: Mira is digging near the ancient oak, her hands covered in dirt. The atmosphere is still peaceful, but with a sense of curiosity.\\n- Characters Involved: Mira\\n- Dialogues: Mira: (thought bubble) What could be buried under this old tree?\\n\\n**Panel 3**\\n- Scene Description: Mira's hands are touching a glowing crystal, and time has frozen around her. Birds are suspended mid-air, and water droplets hang motionless from a nearby fountain. The atmosphere is surreal and magical.\\n- Characters Involved: Mira\\n- Dialogues: None\\n\\n**Panel 4**\\n- Scene Description: A talking squirrel, Tiko, appears in front of Mira. The squirrel has a wise and adventurous look in his eyes. The frozen scene remains in the background.\\n- Characters Involved: Mira, Tiko\\n- Dialogues: Tiko: Mira, the Time Crystal has chosen you. A rogue time traveler has broken the timeline, and you're the only one who can fix it.\\n\\n**Panel 5**\\n- Scene Description: Mira and Tiko are standing in front of a massive, swirling portal. The portal is filled with images of different eras, from dinosaurs to futuristic cities. The atmosphere is exciting and daunting.\\n- Characters Involved: Mira, Tiko\\n- Dialogues: Mira: But how do I do it? Tiko: You'll journey through time, restoring balance to each era. And along the way, you'll uncover secrets about your family's past and your true destiny.\\n\\n**Panel 6**\\n- Scene Description: Mira takes a deep breath, determination in her eyes, and steps into the portal. Tiko watches her go, a mix of confidence and concern on his face. The portal swallows Mira whole, leaving Tiko alone in the frozen village.\\n- Characters Involved: Mira, Tiko\\n- Dialogues: Tiko: (whispering to himself) May the Time Crystal guide you, Mira. The fate of the timeline is in your hands.\""
      ]
     },
     "execution_count": 12,
     "metadata": {},
     "output_type": "execute_result"
    }
   ],
   "source": [
    "story = input()\n",
    "chain.invoke({\"story\":story})"
   ]
  },
  {
   "cell_type": "code",
   "execution_count": null,
   "id": "9dc877b0",
   "metadata": {},
   "outputs": [],
   "source": []
  }
 ],
 "metadata": {
  "kernelspec": {
   "display_name": "Python 3",
   "language": "python",
   "name": "python3"
  },
  "language_info": {
   "codemirror_mode": {
    "name": "ipython",
    "version": 3
   },
   "file_extension": ".py",
   "mimetype": "text/x-python",
   "name": "python",
   "nbconvert_exporter": "python",
   "pygments_lexer": "ipython3",
   "version": "3.11.11"
  }
 },
 "nbformat": 4,
 "nbformat_minor": 5
}
